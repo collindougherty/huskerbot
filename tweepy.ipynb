{
 "cells": [
  {
   "cell_type": "markdown",
   "metadata": {},
   "source": [
    "# Initial Work"
   ]
  },
  {
   "cell_type": "code",
   "execution_count": 1,
   "metadata": {},
   "outputs": [],
   "source": [
    "import tweepy\n",
    "import credentials as cred\n",
    "\n",
    "consumer_key = cred.consumer_key\n",
    "consumer_secret = cred.consumer_secret\n",
    "access_token = cred.access_token\n",
    "access_token_secret = cred.access_token_secret\n",
    "client_id = cred.client_id\n",
    "client_secret = cred.client_secret"
   ]
  },
  {
   "cell_type": "code",
   "execution_count": 2,
   "metadata": {},
   "outputs": [
    {
     "name": "stdout",
     "output_type": "stream",
     "text": [
      "Authentication OK\n"
     ]
    }
   ],
   "source": [
    "auth = tweepy.OAuthHandler(consumer_key, consumer_secret)\n",
    "auth.set_access_token(access_token, access_token_secret)\n",
    "api = tweepy.API(auth)\n",
    "\n",
    "try:\n",
    "    api.verify_credentials()\n",
    "    print(\"Authentication OK\")\n",
    "except:\n",
    "    print(\"Error during authentication\")"
   ]
  },
  {
   "cell_type": "code",
   "execution_count": 3,
   "metadata": {},
   "outputs": [
    {
     "data": {
      "text/plain": [
       "Status(_api=<tweepy.api.API object at 0x000001C30D579610>, _json={'created_at': 'Fri Sep 16 14:57:05 +0000 2022', 'id': 1570788873172557825, 'id_str': '1570788873172557825', 'text': 'test test test #Python $BTC $ETH', 'truncated': False, 'entities': {'hashtags': [{'text': 'Python', 'indices': [15, 22]}], 'symbols': [{'text': 'BTC', 'indices': [23, 27]}, {'text': 'ETH', 'indices': [28, 32]}], 'user_mentions': [], 'urls': []}, 'source': '<a href=\"https://collindougherty.com/\" rel=\"nofollow\">huskerbot</a>', 'in_reply_to_status_id': None, 'in_reply_to_status_id_str': None, 'in_reply_to_user_id': None, 'in_reply_to_user_id_str': None, 'in_reply_to_screen_name': None, 'user': {'id': 1570614022277402624, 'id_str': '1570614022277402624', 'name': 'HuskerBot', 'screen_name': 'Husker_Bot', 'location': 'Trev Alberts Computer', 'description': 'A bot by @CollinD0ugherty and @David58484226', 'url': None, 'entities': {'description': {'urls': []}}, 'protected': False, 'followers_count': 0, 'friends_count': 4, 'listed_count': 0, 'created_at': 'Fri Sep 16 03:22:49 +0000 2022', 'favourites_count': 0, 'utc_offset': None, 'time_zone': None, 'geo_enabled': False, 'verified': False, 'statuses_count': 1, 'lang': None, 'contributors_enabled': False, 'is_translator': False, 'is_translation_enabled': False, 'profile_background_color': 'F5F8FA', 'profile_background_image_url': None, 'profile_background_image_url_https': None, 'profile_background_tile': False, 'profile_image_url': 'http://pbs.twimg.com/profile_images/1570614992927334402/xyGyzeRK_normal.jpg', 'profile_image_url_https': 'https://pbs.twimg.com/profile_images/1570614992927334402/xyGyzeRK_normal.jpg', 'profile_banner_url': 'https://pbs.twimg.com/profile_banners/1570614022277402624/1663298797', 'profile_link_color': '1DA1F2', 'profile_sidebar_border_color': 'C0DEED', 'profile_sidebar_fill_color': 'DDEEF6', 'profile_text_color': '333333', 'profile_use_background_image': True, 'has_extended_profile': True, 'default_profile': True, 'default_profile_image': False, 'following': False, 'follow_request_sent': False, 'notifications': False, 'translator_type': 'none', 'withheld_in_countries': []}, 'geo': None, 'coordinates': None, 'place': None, 'contributors': None, 'is_quote_status': False, 'retweet_count': 0, 'favorite_count': 0, 'favorited': False, 'retweeted': False, 'lang': 'et'}, created_at=datetime.datetime(2022, 9, 16, 14, 57, 5, tzinfo=datetime.timezone.utc), id=1570788873172557825, id_str='1570788873172557825', text='test test test #Python $BTC $ETH', truncated=False, entities={'hashtags': [{'text': 'Python', 'indices': [15, 22]}], 'symbols': [{'text': 'BTC', 'indices': [23, 27]}, {'text': 'ETH', 'indices': [28, 32]}], 'user_mentions': [], 'urls': []}, source='huskerbot', source_url='https://collindougherty.com/', in_reply_to_status_id=None, in_reply_to_status_id_str=None, in_reply_to_user_id=None, in_reply_to_user_id_str=None, in_reply_to_screen_name=None, author=User(_api=<tweepy.api.API object at 0x000001C30D579610>, _json={'id': 1570614022277402624, 'id_str': '1570614022277402624', 'name': 'HuskerBot', 'screen_name': 'Husker_Bot', 'location': 'Trev Alberts Computer', 'description': 'A bot by @CollinD0ugherty and @David58484226', 'url': None, 'entities': {'description': {'urls': []}}, 'protected': False, 'followers_count': 0, 'friends_count': 4, 'listed_count': 0, 'created_at': 'Fri Sep 16 03:22:49 +0000 2022', 'favourites_count': 0, 'utc_offset': None, 'time_zone': None, 'geo_enabled': False, 'verified': False, 'statuses_count': 1, 'lang': None, 'contributors_enabled': False, 'is_translator': False, 'is_translation_enabled': False, 'profile_background_color': 'F5F8FA', 'profile_background_image_url': None, 'profile_background_image_url_https': None, 'profile_background_tile': False, 'profile_image_url': 'http://pbs.twimg.com/profile_images/1570614992927334402/xyGyzeRK_normal.jpg', 'profile_image_url_https': 'https://pbs.twimg.com/profile_images/1570614992927334402/xyGyzeRK_normal.jpg', 'profile_banner_url': 'https://pbs.twimg.com/profile_banners/1570614022277402624/1663298797', 'profile_link_color': '1DA1F2', 'profile_sidebar_border_color': 'C0DEED', 'profile_sidebar_fill_color': 'DDEEF6', 'profile_text_color': '333333', 'profile_use_background_image': True, 'has_extended_profile': True, 'default_profile': True, 'default_profile_image': False, 'following': False, 'follow_request_sent': False, 'notifications': False, 'translator_type': 'none', 'withheld_in_countries': []}, id=1570614022277402624, id_str='1570614022277402624', name='HuskerBot', screen_name='Husker_Bot', location='Trev Alberts Computer', description='A bot by @CollinD0ugherty and @David58484226', url=None, entities={'description': {'urls': []}}, protected=False, followers_count=0, friends_count=4, listed_count=0, created_at=datetime.datetime(2022, 9, 16, 3, 22, 49, tzinfo=datetime.timezone.utc), favourites_count=0, utc_offset=None, time_zone=None, geo_enabled=False, verified=False, statuses_count=1, lang=None, contributors_enabled=False, is_translator=False, is_translation_enabled=False, profile_background_color='F5F8FA', profile_background_image_url=None, profile_background_image_url_https=None, profile_background_tile=False, profile_image_url='http://pbs.twimg.com/profile_images/1570614992927334402/xyGyzeRK_normal.jpg', profile_image_url_https='https://pbs.twimg.com/profile_images/1570614992927334402/xyGyzeRK_normal.jpg', profile_banner_url='https://pbs.twimg.com/profile_banners/1570614022277402624/1663298797', profile_link_color='1DA1F2', profile_sidebar_border_color='C0DEED', profile_sidebar_fill_color='DDEEF6', profile_text_color='333333', profile_use_background_image=True, has_extended_profile=True, default_profile=True, default_profile_image=False, following=False, follow_request_sent=False, notifications=False, translator_type='none', withheld_in_countries=[]), user=User(_api=<tweepy.api.API object at 0x000001C30D579610>, _json={'id': 1570614022277402624, 'id_str': '1570614022277402624', 'name': 'HuskerBot', 'screen_name': 'Husker_Bot', 'location': 'Trev Alberts Computer', 'description': 'A bot by @CollinD0ugherty and @David58484226', 'url': None, 'entities': {'description': {'urls': []}}, 'protected': False, 'followers_count': 0, 'friends_count': 4, 'listed_count': 0, 'created_at': 'Fri Sep 16 03:22:49 +0000 2022', 'favourites_count': 0, 'utc_offset': None, 'time_zone': None, 'geo_enabled': False, 'verified': False, 'statuses_count': 1, 'lang': None, 'contributors_enabled': False, 'is_translator': False, 'is_translation_enabled': False, 'profile_background_color': 'F5F8FA', 'profile_background_image_url': None, 'profile_background_image_url_https': None, 'profile_background_tile': False, 'profile_image_url': 'http://pbs.twimg.com/profile_images/1570614992927334402/xyGyzeRK_normal.jpg', 'profile_image_url_https': 'https://pbs.twimg.com/profile_images/1570614992927334402/xyGyzeRK_normal.jpg', 'profile_banner_url': 'https://pbs.twimg.com/profile_banners/1570614022277402624/1663298797', 'profile_link_color': '1DA1F2', 'profile_sidebar_border_color': 'C0DEED', 'profile_sidebar_fill_color': 'DDEEF6', 'profile_text_color': '333333', 'profile_use_background_image': True, 'has_extended_profile': True, 'default_profile': True, 'default_profile_image': False, 'following': False, 'follow_request_sent': False, 'notifications': False, 'translator_type': 'none', 'withheld_in_countries': []}, id=1570614022277402624, id_str='1570614022277402624', name='HuskerBot', screen_name='Husker_Bot', location='Trev Alberts Computer', description='A bot by @CollinD0ugherty and @David58484226', url=None, entities={'description': {'urls': []}}, protected=False, followers_count=0, friends_count=4, listed_count=0, created_at=datetime.datetime(2022, 9, 16, 3, 22, 49, tzinfo=datetime.timezone.utc), favourites_count=0, utc_offset=None, time_zone=None, geo_enabled=False, verified=False, statuses_count=1, lang=None, contributors_enabled=False, is_translator=False, is_translation_enabled=False, profile_background_color='F5F8FA', profile_background_image_url=None, profile_background_image_url_https=None, profile_background_tile=False, profile_image_url='http://pbs.twimg.com/profile_images/1570614992927334402/xyGyzeRK_normal.jpg', profile_image_url_https='https://pbs.twimg.com/profile_images/1570614992927334402/xyGyzeRK_normal.jpg', profile_banner_url='https://pbs.twimg.com/profile_banners/1570614022277402624/1663298797', profile_link_color='1DA1F2', profile_sidebar_border_color='C0DEED', profile_sidebar_fill_color='DDEEF6', profile_text_color='333333', profile_use_background_image=True, has_extended_profile=True, default_profile=True, default_profile_image=False, following=False, follow_request_sent=False, notifications=False, translator_type='none', withheld_in_countries=[]), geo=None, coordinates=None, place=None, contributors=None, is_quote_status=False, retweet_count=0, favorite_count=0, favorited=False, retweeted=False, lang='et')"
      ]
     },
     "execution_count": 3,
     "metadata": {},
     "output_type": "execute_result"
    }
   ],
   "source": [
    "# Define the tweet text\n",
    "tweet_text= 'test test test #Python $BTC $ETH'\n",
    "#url = \"url here\"\n",
    "\n",
    "# Generate text tweet\n",
    "api.update_status(f\"{tweet_text} {url}\")"
   ]
  },
  {
   "cell_type": "code",
   "execution_count": null,
   "metadata": {},
   "outputs": [],
   "source": [
    "# Define the tweet text\n",
    "tweet_text='This is another automated test tweet using #Python '\n",
    "image_path ='Test Images/ETH_price.png'\n",
    "relataly_url = \"https://www.relataly.com\"\n",
    "\n",
    "# Generate text tweet with media (image)\n",
    "status = api.update_with_media(image_path, f\"{tweet_text} {relataly_url}\")"
   ]
  },
  {
   "cell_type": "code",
   "execution_count": 16,
   "metadata": {},
   "outputs": [],
   "source": [
    "import tweepy\n",
    "import credentials as cred\n",
    "import functions as f\n",
    "import retweets\n",
    "\n",
    "api = f.api\n",
    "\n",
    "for handle in retweets.RT_HANDLES:\n",
    "    tweets = api.user_timeline(screen_name=handle, count = 1)"
   ]
  },
  {
   "cell_type": "code",
   "execution_count": 17,
   "metadata": {},
   "outputs": [
    {
     "data": {
      "text/plain": [
       "[Status(_api=<tweepy.api.API object at 0x000001AA336575E0>, _json={'created_at': 'Thu Sep 15 16:32:34 +0000 2022', 'id': 1570450514432921600, 'id_str': '1570450514432921600', 'text': 'https://t.co/XDtzvJcP2V', 'truncated': False, 'entities': {'hashtags': [], 'symbols': [], 'user_mentions': [], 'urls': [{'url': 'https://t.co/XDtzvJcP2V', 'expanded_url': 'https://en.wikipedia.org/wiki/Benford%27s_law', 'display_url': 'en.wikipedia.org/wiki/Benford%2…', 'indices': [0, 23]}]}, 'source': '<a href=\"http://twitter.com/download/iphone\" rel=\"nofollow\">Twitter for iPhone</a>', 'in_reply_to_status_id': None, 'in_reply_to_status_id_str': None, 'in_reply_to_user_id': None, 'in_reply_to_user_id_str': None, 'in_reply_to_screen_name': None, 'user': {'id': 1356321203221196805, 'id_str': '1356321203221196805', 'name': 'Collin Dougherty', 'screen_name': 'CollinD0ugherty', 'location': 'Lincoln, NE', 'description': 'Data, Markets, Sports, #Huskers', 'url': 'https://t.co/QkfZCSbmST', 'entities': {'url': {'urls': [{'url': 'https://t.co/QkfZCSbmST', 'expanded_url': 'https://collindougherty.com/', 'display_url': 'collindougherty.com', 'indices': [0, 23]}]}, 'description': {'urls': []}}, 'protected': False, 'followers_count': 51, 'friends_count': 192, 'listed_count': 0, 'created_at': 'Mon Feb 01 19:19:55 +0000 2021', 'favourites_count': 1584, 'utc_offset': None, 'time_zone': None, 'geo_enabled': False, 'verified': False, 'statuses_count': 187, 'lang': None, 'contributors_enabled': False, 'is_translator': False, 'is_translation_enabled': False, 'profile_background_color': 'F5F8FA', 'profile_background_image_url': None, 'profile_background_image_url_https': None, 'profile_background_tile': False, 'profile_image_url': 'http://pbs.twimg.com/profile_images/1498207680623779841/z6_eLqpP_normal.jpg', 'profile_image_url_https': 'https://pbs.twimg.com/profile_images/1498207680623779841/z6_eLqpP_normal.jpg', 'profile_banner_url': 'https://pbs.twimg.com/profile_banners/1356321203221196805/1656789077', 'profile_link_color': '1DA1F2', 'profile_sidebar_border_color': 'C0DEED', 'profile_sidebar_fill_color': 'DDEEF6', 'profile_text_color': '333333', 'profile_use_background_image': True, 'has_extended_profile': True, 'default_profile': True, 'default_profile_image': False, 'following': True, 'follow_request_sent': False, 'notifications': False, 'translator_type': 'none', 'withheld_in_countries': []}, 'geo': None, 'coordinates': None, 'place': None, 'contributors': None, 'is_quote_status': False, 'retweet_count': 1, 'favorite_count': 0, 'favorited': False, 'retweeted': True, 'possibly_sensitive': False, 'lang': 'zxx'}, created_at=datetime.datetime(2022, 9, 15, 16, 32, 34, tzinfo=datetime.timezone.utc), id=1570450514432921600, id_str='1570450514432921600', text='https://t.co/XDtzvJcP2V', truncated=False, entities={'hashtags': [], 'symbols': [], 'user_mentions': [], 'urls': [{'url': 'https://t.co/XDtzvJcP2V', 'expanded_url': 'https://en.wikipedia.org/wiki/Benford%27s_law', 'display_url': 'en.wikipedia.org/wiki/Benford%2…', 'indices': [0, 23]}]}, source='Twitter for iPhone', source_url='http://twitter.com/download/iphone', in_reply_to_status_id=None, in_reply_to_status_id_str=None, in_reply_to_user_id=None, in_reply_to_user_id_str=None, in_reply_to_screen_name=None, author=User(_api=<tweepy.api.API object at 0x000001AA336575E0>, _json={'id': 1356321203221196805, 'id_str': '1356321203221196805', 'name': 'Collin Dougherty', 'screen_name': 'CollinD0ugherty', 'location': 'Lincoln, NE', 'description': 'Data, Markets, Sports, #Huskers', 'url': 'https://t.co/QkfZCSbmST', 'entities': {'url': {'urls': [{'url': 'https://t.co/QkfZCSbmST', 'expanded_url': 'https://collindougherty.com/', 'display_url': 'collindougherty.com', 'indices': [0, 23]}]}, 'description': {'urls': []}}, 'protected': False, 'followers_count': 51, 'friends_count': 192, 'listed_count': 0, 'created_at': 'Mon Feb 01 19:19:55 +0000 2021', 'favourites_count': 1584, 'utc_offset': None, 'time_zone': None, 'geo_enabled': False, 'verified': False, 'statuses_count': 187, 'lang': None, 'contributors_enabled': False, 'is_translator': False, 'is_translation_enabled': False, 'profile_background_color': 'F5F8FA', 'profile_background_image_url': None, 'profile_background_image_url_https': None, 'profile_background_tile': False, 'profile_image_url': 'http://pbs.twimg.com/profile_images/1498207680623779841/z6_eLqpP_normal.jpg', 'profile_image_url_https': 'https://pbs.twimg.com/profile_images/1498207680623779841/z6_eLqpP_normal.jpg', 'profile_banner_url': 'https://pbs.twimg.com/profile_banners/1356321203221196805/1656789077', 'profile_link_color': '1DA1F2', 'profile_sidebar_border_color': 'C0DEED', 'profile_sidebar_fill_color': 'DDEEF6', 'profile_text_color': '333333', 'profile_use_background_image': True, 'has_extended_profile': True, 'default_profile': True, 'default_profile_image': False, 'following': True, 'follow_request_sent': False, 'notifications': False, 'translator_type': 'none', 'withheld_in_countries': []}, id=1356321203221196805, id_str='1356321203221196805', name='Collin Dougherty', screen_name='CollinD0ugherty', location='Lincoln, NE', description='Data, Markets, Sports, #Huskers', url='https://t.co/QkfZCSbmST', entities={'url': {'urls': [{'url': 'https://t.co/QkfZCSbmST', 'expanded_url': 'https://collindougherty.com/', 'display_url': 'collindougherty.com', 'indices': [0, 23]}]}, 'description': {'urls': []}}, protected=False, followers_count=51, friends_count=192, listed_count=0, created_at=datetime.datetime(2021, 2, 1, 19, 19, 55, tzinfo=datetime.timezone.utc), favourites_count=1584, utc_offset=None, time_zone=None, geo_enabled=False, verified=False, statuses_count=187, lang=None, contributors_enabled=False, is_translator=False, is_translation_enabled=False, profile_background_color='F5F8FA', profile_background_image_url=None, profile_background_image_url_https=None, profile_background_tile=False, profile_image_url='http://pbs.twimg.com/profile_images/1498207680623779841/z6_eLqpP_normal.jpg', profile_image_url_https='https://pbs.twimg.com/profile_images/1498207680623779841/z6_eLqpP_normal.jpg', profile_banner_url='https://pbs.twimg.com/profile_banners/1356321203221196805/1656789077', profile_link_color='1DA1F2', profile_sidebar_border_color='C0DEED', profile_sidebar_fill_color='DDEEF6', profile_text_color='333333', profile_use_background_image=True, has_extended_profile=True, default_profile=True, default_profile_image=False, following=True, follow_request_sent=False, notifications=False, translator_type='none', withheld_in_countries=[]), user=User(_api=<tweepy.api.API object at 0x000001AA336575E0>, _json={'id': 1356321203221196805, 'id_str': '1356321203221196805', 'name': 'Collin Dougherty', 'screen_name': 'CollinD0ugherty', 'location': 'Lincoln, NE', 'description': 'Data, Markets, Sports, #Huskers', 'url': 'https://t.co/QkfZCSbmST', 'entities': {'url': {'urls': [{'url': 'https://t.co/QkfZCSbmST', 'expanded_url': 'https://collindougherty.com/', 'display_url': 'collindougherty.com', 'indices': [0, 23]}]}, 'description': {'urls': []}}, 'protected': False, 'followers_count': 51, 'friends_count': 192, 'listed_count': 0, 'created_at': 'Mon Feb 01 19:19:55 +0000 2021', 'favourites_count': 1584, 'utc_offset': None, 'time_zone': None, 'geo_enabled': False, 'verified': False, 'statuses_count': 187, 'lang': None, 'contributors_enabled': False, 'is_translator': False, 'is_translation_enabled': False, 'profile_background_color': 'F5F8FA', 'profile_background_image_url': None, 'profile_background_image_url_https': None, 'profile_background_tile': False, 'profile_image_url': 'http://pbs.twimg.com/profile_images/1498207680623779841/z6_eLqpP_normal.jpg', 'profile_image_url_https': 'https://pbs.twimg.com/profile_images/1498207680623779841/z6_eLqpP_normal.jpg', 'profile_banner_url': 'https://pbs.twimg.com/profile_banners/1356321203221196805/1656789077', 'profile_link_color': '1DA1F2', 'profile_sidebar_border_color': 'C0DEED', 'profile_sidebar_fill_color': 'DDEEF6', 'profile_text_color': '333333', 'profile_use_background_image': True, 'has_extended_profile': True, 'default_profile': True, 'default_profile_image': False, 'following': True, 'follow_request_sent': False, 'notifications': False, 'translator_type': 'none', 'withheld_in_countries': []}, id=1356321203221196805, id_str='1356321203221196805', name='Collin Dougherty', screen_name='CollinD0ugherty', location='Lincoln, NE', description='Data, Markets, Sports, #Huskers', url='https://t.co/QkfZCSbmST', entities={'url': {'urls': [{'url': 'https://t.co/QkfZCSbmST', 'expanded_url': 'https://collindougherty.com/', 'display_url': 'collindougherty.com', 'indices': [0, 23]}]}, 'description': {'urls': []}}, protected=False, followers_count=51, friends_count=192, listed_count=0, created_at=datetime.datetime(2021, 2, 1, 19, 19, 55, tzinfo=datetime.timezone.utc), favourites_count=1584, utc_offset=None, time_zone=None, geo_enabled=False, verified=False, statuses_count=187, lang=None, contributors_enabled=False, is_translator=False, is_translation_enabled=False, profile_background_color='F5F8FA', profile_background_image_url=None, profile_background_image_url_https=None, profile_background_tile=False, profile_image_url='http://pbs.twimg.com/profile_images/1498207680623779841/z6_eLqpP_normal.jpg', profile_image_url_https='https://pbs.twimg.com/profile_images/1498207680623779841/z6_eLqpP_normal.jpg', profile_banner_url='https://pbs.twimg.com/profile_banners/1356321203221196805/1656789077', profile_link_color='1DA1F2', profile_sidebar_border_color='C0DEED', profile_sidebar_fill_color='DDEEF6', profile_text_color='333333', profile_use_background_image=True, has_extended_profile=True, default_profile=True, default_profile_image=False, following=True, follow_request_sent=False, notifications=False, translator_type='none', withheld_in_countries=[]), geo=None, coordinates=None, place=None, contributors=None, is_quote_status=False, retweet_count=1, favorite_count=0, favorited=False, retweeted=True, possibly_sensitive=False, lang='zxx')]"
      ]
     },
     "execution_count": 17,
     "metadata": {},
     "output_type": "execute_result"
    }
   ],
   "source": [
    "#tweets = api.user_timeline(user_id='CollinD0ugherty', count = 3)\n",
    "tweets"
   ]
  }
 ],
 "metadata": {
  "kernelspec": {
   "display_name": "Python 3.9.12 ('base': conda)",
   "language": "python",
   "name": "python3"
  },
  "language_info": {
   "codemirror_mode": {
    "name": "ipython",
    "version": 3
   },
   "file_extension": ".py",
   "mimetype": "text/x-python",
   "name": "python",
   "nbconvert_exporter": "python",
   "pygments_lexer": "ipython3",
   "version": "3.9.12"
  },
  "orig_nbformat": 4,
  "vscode": {
   "interpreter": {
    "hash": "017eb2bca735f32fca2f44a927396237c1971b19329cf36cd663baa75805e2d8"
   }
  }
 },
 "nbformat": 4,
 "nbformat_minor": 2
}
