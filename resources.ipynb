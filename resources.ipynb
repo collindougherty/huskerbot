{
 "cells": [
  {
   "cell_type": "markdown",
   "metadata": {},
   "source": [
    "# Resources for Twitter Bot / Thoughts\n",
    "## Articles and links\n",
    "- https://blog.hubspot.com/website/how-to-make-a-twitter-bot\n",
    "- https://developer.twitter.com/en/docs/tutorials/how-to-create-a-twitter-bot-with-twitter-api-v2\n",
    "- https://learn.g2.com/how-to-make-a-twitter-bot\n"
   ]
  },
  {
   "cell_type": "markdown",
   "metadata": {},
   "source": [
    "# Random copilot generation:"
   ]
  },
  {
   "cell_type": "code",
   "execution_count": 1,
   "metadata": {},
   "outputs": [],
   "source": [
    "import requests\n",
    "import json\n",
    "\n",
    "\n",
    "# Twitter API credentials   \n",
    "consumer_key = \"YOUR_CONSUMER_KEY\"\n",
    "consumer_secret = \"YOUR_CONSUMER_SECRET\"\n",
    "access_token = \"YOUR_ACCESS_TOKEN\"\n",
    "access_token_secret = \"YOUR_ACCESS_TOKEN_SECRET\"\n",
    "\n",
    "# create a function to make a request to Twitter API\n",
    "def twitter_request(url, params):\n",
    "    # create an authentication object\n",
    "    auth = requests.auth.HTTPBasicAuth(consumer_key, consumer_secret)\n",
    "    # create a request token\n",
    "    token = requests.auth.OAuth1(consumer_key, consumer_secret, access_token, access_token_secret)\n",
    "    # make a request to Twitter API\n",
    "    response = requests.get(url, params=params, auth=auth, stream=True)\n",
    "    # return the response\n",
    "    return response\n",
    "\n",
    "# create a function to get the tweets\n",
    "def get_tweets():\n",
    "    # define the url\n",
    "    url = \"https://stream.twitter.com/1.1/statuses/filter.json\"\n",
    "    # define the parameters\n",
    "    params = {\"track\": \"python\"}\n",
    "    # make a request to Twitter API\n",
    "    response = twitter_request(url, params)\n",
    "    # return the response\n",
    "    return response\n",
    "\n",
    "\n",
    "\n"
   ]
  }
 ],
 "metadata": {
  "kernelspec": {
   "display_name": "Python 3.10.4 64-bit",
   "language": "python",
   "name": "python3"
  },
  "language_info": {
   "codemirror_mode": {
    "name": "ipython",
    "version": 3
   },
   "file_extension": ".py",
   "mimetype": "text/x-python",
   "name": "python",
   "nbconvert_exporter": "python",
   "pygments_lexer": "ipython3",
   "version": "3.10.4"
  },
  "orig_nbformat": 4,
  "vscode": {
   "interpreter": {
    "hash": "916dbcbb3f70747c44a77c7bcd40155683ae19c65e1c03b4aa3499c5328201f1"
   }
  }
 },
 "nbformat": 4,
 "nbformat_minor": 2
}
